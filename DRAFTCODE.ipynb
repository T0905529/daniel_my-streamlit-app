{
  "nbformat": 4,
  "nbformat_minor": 0,
  "metadata": {
    "colab": {
      "provenance": [],
      "authorship_tag": "ABX9TyPqlR3OCfUjVOWxNzx1XMR8",
      "include_colab_link": true
    },
    "kernelspec": {
      "name": "python3",
      "display_name": "Python 3"
    },
    "language_info": {
      "name": "python"
    },
    "widgets": {
      "application/vnd.jupyter.widget-state+json": {
        "5f239cace9784a5cad940b49ff6cec27": {
          "model_module": "@jupyter-widgets/controls",
          "model_name": "IntSliderModel",
          "model_module_version": "1.5.0",
          "state": {
            "_dom_classes": [],
            "_model_module": "@jupyter-widgets/controls",
            "_model_module_version": "1.5.0",
            "_model_name": "IntSliderModel",
            "_view_count": null,
            "_view_module": "@jupyter-widgets/controls",
            "_view_module_version": "1.5.0",
            "_view_name": "IntSliderView",
            "continuous_update": true,
            "description": "Impact:",
            "description_tooltip": null,
            "disabled": false,
            "layout": "IPY_MODEL_516afe84d08445de84a6760eb878d22f",
            "max": 2,
            "min": 0,
            "orientation": "horizontal",
            "readout": true,
            "readout_format": "d",
            "step": 1,
            "style": "IPY_MODEL_b9c59afdb4e649eb9b86916517dd50dd",
            "value": 1
          }
        },
        "516afe84d08445de84a6760eb878d22f": {
          "model_module": "@jupyter-widgets/base",
          "model_name": "LayoutModel",
          "model_module_version": "1.2.0",
          "state": {
            "_model_module": "@jupyter-widgets/base",
            "_model_module_version": "1.2.0",
            "_model_name": "LayoutModel",
            "_view_count": null,
            "_view_module": "@jupyter-widgets/base",
            "_view_module_version": "1.2.0",
            "_view_name": "LayoutView",
            "align_content": null,
            "align_items": null,
            "align_self": null,
            "border": null,
            "bottom": null,
            "display": null,
            "flex": null,
            "flex_flow": null,
            "grid_area": null,
            "grid_auto_columns": null,
            "grid_auto_flow": null,
            "grid_auto_rows": null,
            "grid_column": null,
            "grid_gap": null,
            "grid_row": null,
            "grid_template_areas": null,
            "grid_template_columns": null,
            "grid_template_rows": null,
            "height": null,
            "justify_content": null,
            "justify_items": null,
            "left": null,
            "margin": null,
            "max_height": null,
            "max_width": null,
            "min_height": null,
            "min_width": null,
            "object_fit": null,
            "object_position": null,
            "order": null,
            "overflow": null,
            "overflow_x": null,
            "overflow_y": null,
            "padding": null,
            "right": null,
            "top": null,
            "visibility": null,
            "width": null
          }
        },
        "b9c59afdb4e649eb9b86916517dd50dd": {
          "model_module": "@jupyter-widgets/controls",
          "model_name": "SliderStyleModel",
          "model_module_version": "1.5.0",
          "state": {
            "_model_module": "@jupyter-widgets/controls",
            "_model_module_version": "1.5.0",
            "_model_name": "SliderStyleModel",
            "_view_count": null,
            "_view_module": "@jupyter-widgets/base",
            "_view_module_version": "1.2.0",
            "_view_name": "StyleView",
            "description_width": "initial",
            "handle_color": null
          }
        },
        "2d96cce31bc540bf9e3d17f1247a9f71": {
          "model_module": "@jupyter-widgets/controls",
          "model_name": "LabelModel",
          "model_module_version": "1.5.0",
          "state": {
            "_dom_classes": [],
            "_model_module": "@jupyter-widgets/controls",
            "_model_module_version": "1.5.0",
            "_model_name": "LabelModel",
            "_view_count": null,
            "_view_module": "@jupyter-widgets/controls",
            "_view_module_version": "1.5.0",
            "_view_name": "LabelView",
            "description": "",
            "description_tooltip": null,
            "layout": "IPY_MODEL_a170852ac980484e8d6c7c4c6b4f89b8",
            "placeholder": "​",
            "style": "IPY_MODEL_5c0306abb1f74586b9c62ef11396d1fa",
            "value": "Qualitative Impact: Medium Impact (1)"
          }
        },
        "a170852ac980484e8d6c7c4c6b4f89b8": {
          "model_module": "@jupyter-widgets/base",
          "model_name": "LayoutModel",
          "model_module_version": "1.2.0",
          "state": {
            "_model_module": "@jupyter-widgets/base",
            "_model_module_version": "1.2.0",
            "_model_name": "LayoutModel",
            "_view_count": null,
            "_view_module": "@jupyter-widgets/base",
            "_view_module_version": "1.2.0",
            "_view_name": "LayoutView",
            "align_content": null,
            "align_items": null,
            "align_self": null,
            "border": null,
            "bottom": null,
            "display": null,
            "flex": null,
            "flex_flow": null,
            "grid_area": null,
            "grid_auto_columns": null,
            "grid_auto_flow": null,
            "grid_auto_rows": null,
            "grid_column": null,
            "grid_gap": null,
            "grid_row": null,
            "grid_template_areas": null,
            "grid_template_columns": null,
            "grid_template_rows": null,
            "height": null,
            "justify_content": null,
            "justify_items": null,
            "left": null,
            "margin": null,
            "max_height": null,
            "max_width": null,
            "min_height": null,
            "min_width": null,
            "object_fit": null,
            "object_position": null,
            "order": null,
            "overflow": null,
            "overflow_x": null,
            "overflow_y": null,
            "padding": null,
            "right": null,
            "top": null,
            "visibility": null,
            "width": null
          }
        },
        "5c0306abb1f74586b9c62ef11396d1fa": {
          "model_module": "@jupyter-widgets/controls",
          "model_name": "DescriptionStyleModel",
          "model_module_version": "1.5.0",
          "state": {
            "_model_module": "@jupyter-widgets/controls",
            "_model_module_version": "1.5.0",
            "_model_name": "DescriptionStyleModel",
            "_view_count": null,
            "_view_module": "@jupyter-widgets/base",
            "_view_module_version": "1.2.0",
            "_view_name": "StyleView",
            "description_width": ""
          }
        },
        "bf957ddcd8924a4085fd23ffa4b85e63": {
          "model_module": "@jupyter-widgets/controls",
          "model_name": "IntSliderModel",
          "model_module_version": "1.5.0",
          "state": {
            "_dom_classes": [],
            "_model_module": "@jupyter-widgets/controls",
            "_model_module_version": "1.5.0",
            "_model_name": "IntSliderModel",
            "_view_count": null,
            "_view_module": "@jupyter-widgets/controls",
            "_view_module_version": "1.5.0",
            "_view_name": "IntSliderView",
            "continuous_update": true,
            "description": "Impact:",
            "description_tooltip": null,
            "disabled": false,
            "layout": "IPY_MODEL_ce7fee20254140f4b3cfc660d7f8c106",
            "max": 2,
            "min": 0,
            "orientation": "horizontal",
            "readout": true,
            "readout_format": "d",
            "step": 1,
            "style": "IPY_MODEL_1b57351d91924ba0bf92974fd7bdecda",
            "value": 2
          }
        },
        "ce7fee20254140f4b3cfc660d7f8c106": {
          "model_module": "@jupyter-widgets/base",
          "model_name": "LayoutModel",
          "model_module_version": "1.2.0",
          "state": {
            "_model_module": "@jupyter-widgets/base",
            "_model_module_version": "1.2.0",
            "_model_name": "LayoutModel",
            "_view_count": null,
            "_view_module": "@jupyter-widgets/base",
            "_view_module_version": "1.2.0",
            "_view_name": "LayoutView",
            "align_content": null,
            "align_items": null,
            "align_self": null,
            "border": null,
            "bottom": null,
            "display": null,
            "flex": null,
            "flex_flow": null,
            "grid_area": null,
            "grid_auto_columns": null,
            "grid_auto_flow": null,
            "grid_auto_rows": null,
            "grid_column": null,
            "grid_gap": null,
            "grid_row": null,
            "grid_template_areas": null,
            "grid_template_columns": null,
            "grid_template_rows": null,
            "height": null,
            "justify_content": null,
            "justify_items": null,
            "left": null,
            "margin": null,
            "max_height": null,
            "max_width": null,
            "min_height": null,
            "min_width": null,
            "object_fit": null,
            "object_position": null,
            "order": null,
            "overflow": null,
            "overflow_x": null,
            "overflow_y": null,
            "padding": null,
            "right": null,
            "top": null,
            "visibility": null,
            "width": null
          }
        },
        "1b57351d91924ba0bf92974fd7bdecda": {
          "model_module": "@jupyter-widgets/controls",
          "model_name": "SliderStyleModel",
          "model_module_version": "1.5.0",
          "state": {
            "_model_module": "@jupyter-widgets/controls",
            "_model_module_version": "1.5.0",
            "_model_name": "SliderStyleModel",
            "_view_count": null,
            "_view_module": "@jupyter-widgets/base",
            "_view_module_version": "1.2.0",
            "_view_name": "StyleView",
            "description_width": "initial",
            "handle_color": null
          }
        },
        "f05938a9ef654aa8ba977d55ee70f2dd": {
          "model_module": "@jupyter-widgets/controls",
          "model_name": "ButtonModel",
          "model_module_version": "1.5.0",
          "state": {
            "_dom_classes": [],
            "_model_module": "@jupyter-widgets/controls",
            "_model_module_version": "1.5.0",
            "_model_name": "ButtonModel",
            "_view_count": null,
            "_view_module": "@jupyter-widgets/controls",
            "_view_module_version": "1.5.0",
            "_view_name": "ButtonView",
            "button_style": "",
            "description": "Update Selection",
            "disabled": false,
            "icon": "",
            "layout": "IPY_MODEL_127856cd88484cf799c402814b302a75",
            "style": "IPY_MODEL_f3930e09cecd460681e8f80ab4af86eb",
            "tooltip": ""
          }
        },
        "127856cd88484cf799c402814b302a75": {
          "model_module": "@jupyter-widgets/base",
          "model_name": "LayoutModel",
          "model_module_version": "1.2.0",
          "state": {
            "_model_module": "@jupyter-widgets/base",
            "_model_module_version": "1.2.0",
            "_model_name": "LayoutModel",
            "_view_count": null,
            "_view_module": "@jupyter-widgets/base",
            "_view_module_version": "1.2.0",
            "_view_name": "LayoutView",
            "align_content": null,
            "align_items": null,
            "align_self": null,
            "border": null,
            "bottom": null,
            "display": null,
            "flex": null,
            "flex_flow": null,
            "grid_area": null,
            "grid_auto_columns": null,
            "grid_auto_flow": null,
            "grid_auto_rows": null,
            "grid_column": null,
            "grid_gap": null,
            "grid_row": null,
            "grid_template_areas": null,
            "grid_template_columns": null,
            "grid_template_rows": null,
            "height": null,
            "justify_content": null,
            "justify_items": null,
            "left": null,
            "margin": null,
            "max_height": null,
            "max_width": null,
            "min_height": null,
            "min_width": null,
            "object_fit": null,
            "object_position": null,
            "order": null,
            "overflow": null,
            "overflow_x": null,
            "overflow_y": null,
            "padding": null,
            "right": null,
            "top": null,
            "visibility": null,
            "width": null
          }
        },
        "f3930e09cecd460681e8f80ab4af86eb": {
          "model_module": "@jupyter-widgets/controls",
          "model_name": "ButtonStyleModel",
          "model_module_version": "1.5.0",
          "state": {
            "_model_module": "@jupyter-widgets/controls",
            "_model_module_version": "1.5.0",
            "_model_name": "ButtonStyleModel",
            "_view_count": null,
            "_view_module": "@jupyter-widgets/base",
            "_view_module_version": "1.2.0",
            "_view_name": "StyleView",
            "button_color": null,
            "font_weight": ""
          }
        },
        "0fa62239223c4eedb715e72deb700fe8": {
          "model_module": "@jupyter-widgets/controls",
          "model_name": "LabelModel",
          "model_module_version": "1.5.0",
          "state": {
            "_dom_classes": [],
            "_model_module": "@jupyter-widgets/controls",
            "_model_module_version": "1.5.0",
            "_model_name": "LabelModel",
            "_view_count": null,
            "_view_module": "@jupyter-widgets/controls",
            "_view_module_version": "1.5.0",
            "_view_name": "LabelView",
            "description": "",
            "description_tooltip": null,
            "layout": "IPY_MODEL_2d562bcad64e402b84969eba42820b2b",
            "placeholder": "​",
            "style": "IPY_MODEL_3f0e95f08344409f87fc83f9e01cb20f",
            "value": "Qualitative Impact: High impact on costs."
          }
        },
        "2d562bcad64e402b84969eba42820b2b": {
          "model_module": "@jupyter-widgets/base",
          "model_name": "LayoutModel",
          "model_module_version": "1.2.0",
          "state": {
            "_model_module": "@jupyter-widgets/base",
            "_model_module_version": "1.2.0",
            "_model_name": "LayoutModel",
            "_view_count": null,
            "_view_module": "@jupyter-widgets/base",
            "_view_module_version": "1.2.0",
            "_view_name": "LayoutView",
            "align_content": null,
            "align_items": null,
            "align_self": null,
            "border": null,
            "bottom": null,
            "display": null,
            "flex": null,
            "flex_flow": null,
            "grid_area": null,
            "grid_auto_columns": null,
            "grid_auto_flow": null,
            "grid_auto_rows": null,
            "grid_column": null,
            "grid_gap": null,
            "grid_row": null,
            "grid_template_areas": null,
            "grid_template_columns": null,
            "grid_template_rows": null,
            "height": null,
            "justify_content": null,
            "justify_items": null,
            "left": null,
            "margin": null,
            "max_height": null,
            "max_width": null,
            "min_height": null,
            "min_width": null,
            "object_fit": null,
            "object_position": null,
            "order": null,
            "overflow": null,
            "overflow_x": null,
            "overflow_y": null,
            "padding": null,
            "right": null,
            "top": null,
            "visibility": null,
            "width": null
          }
        },
        "3f0e95f08344409f87fc83f9e01cb20f": {
          "model_module": "@jupyter-widgets/controls",
          "model_name": "DescriptionStyleModel",
          "model_module_version": "1.5.0",
          "state": {
            "_model_module": "@jupyter-widgets/controls",
            "_model_module_version": "1.5.0",
            "_model_name": "DescriptionStyleModel",
            "_view_count": null,
            "_view_module": "@jupyter-widgets/base",
            "_view_module_version": "1.2.0",
            "_view_name": "StyleView",
            "description_width": ""
          }
        }
      }
    }
  },
  "cells": [
    {
      "cell_type": "markdown",
      "metadata": {
        "id": "view-in-github",
        "colab_type": "text"
      },
      "source": [
        "<a href=\"https://colab.research.google.com/github/T0905529/daniel_my-streamlit-app/blob/main/DRAFTCODE.ipynb\" target=\"_parent\"><img src=\"https://colab.research.google.com/assets/colab-badge.svg\" alt=\"Open In Colab\"/></a>"
      ]
    },
    {
      "cell_type": "code",
      "execution_count": 1,
      "metadata": {
        "colab": {
          "base_uri": "https://localhost:8080/"
        },
        "collapsed": true,
        "id": "NiRSEKW7l5ie",
        "outputId": "2fca1cfa-0e26-4092-fb25-2648a4e641b7"
      },
      "outputs": [
        {
          "output_type": "stream",
          "name": "stdout",
          "text": [
            "Collecting streamlit\n",
            "  Downloading streamlit-1.44.1-py3-none-any.whl.metadata (8.9 kB)\n",
            "Requirement already satisfied: altair<6,>=4.0 in /usr/local/lib/python3.11/dist-packages (from streamlit) (5.5.0)\n",
            "Requirement already satisfied: blinker<2,>=1.0.0 in /usr/local/lib/python3.11/dist-packages (from streamlit) (1.9.0)\n",
            "Requirement already satisfied: cachetools<6,>=4.0 in /usr/local/lib/python3.11/dist-packages (from streamlit) (5.5.2)\n",
            "Requirement already satisfied: click<9,>=7.0 in /usr/local/lib/python3.11/dist-packages (from streamlit) (8.1.8)\n",
            "Requirement already satisfied: numpy<3,>=1.23 in /usr/local/lib/python3.11/dist-packages (from streamlit) (2.0.2)\n",
            "Requirement already satisfied: packaging<25,>=20 in /usr/local/lib/python3.11/dist-packages (from streamlit) (24.2)\n",
            "Requirement already satisfied: pandas<3,>=1.4.0 in /usr/local/lib/python3.11/dist-packages (from streamlit) (2.2.2)\n",
            "Requirement already satisfied: pillow<12,>=7.1.0 in /usr/local/lib/python3.11/dist-packages (from streamlit) (11.1.0)\n",
            "Requirement already satisfied: protobuf<6,>=3.20 in /usr/local/lib/python3.11/dist-packages (from streamlit) (5.29.4)\n",
            "Requirement already satisfied: pyarrow>=7.0 in /usr/local/lib/python3.11/dist-packages (from streamlit) (18.1.0)\n",
            "Requirement already satisfied: requests<3,>=2.27 in /usr/local/lib/python3.11/dist-packages (from streamlit) (2.32.3)\n",
            "Requirement already satisfied: tenacity<10,>=8.1.0 in /usr/local/lib/python3.11/dist-packages (from streamlit) (9.1.2)\n",
            "Requirement already satisfied: toml<2,>=0.10.1 in /usr/local/lib/python3.11/dist-packages (from streamlit) (0.10.2)\n",
            "Requirement already satisfied: typing-extensions<5,>=4.4.0 in /usr/local/lib/python3.11/dist-packages (from streamlit) (4.13.1)\n",
            "Collecting watchdog<7,>=2.1.5 (from streamlit)\n",
            "  Downloading watchdog-6.0.0-py3-none-manylinux2014_x86_64.whl.metadata (44 kB)\n",
            "\u001b[2K     \u001b[90m━━━━━━━━━━━━━━━━━━━━━━━━━━━━━━━━━━━━━━━━\u001b[0m \u001b[32m44.3/44.3 kB\u001b[0m \u001b[31m1.5 MB/s\u001b[0m eta \u001b[36m0:00:00\u001b[0m\n",
            "\u001b[?25hRequirement already satisfied: gitpython!=3.1.19,<4,>=3.0.7 in /usr/local/lib/python3.11/dist-packages (from streamlit) (3.1.44)\n",
            "Collecting pydeck<1,>=0.8.0b4 (from streamlit)\n",
            "  Downloading pydeck-0.9.1-py2.py3-none-any.whl.metadata (4.1 kB)\n",
            "Requirement already satisfied: tornado<7,>=6.0.3 in /usr/local/lib/python3.11/dist-packages (from streamlit) (6.4.2)\n",
            "Requirement already satisfied: jinja2 in /usr/local/lib/python3.11/dist-packages (from altair<6,>=4.0->streamlit) (3.1.6)\n",
            "Requirement already satisfied: jsonschema>=3.0 in /usr/local/lib/python3.11/dist-packages (from altair<6,>=4.0->streamlit) (4.23.0)\n",
            "Requirement already satisfied: narwhals>=1.14.2 in /usr/local/lib/python3.11/dist-packages (from altair<6,>=4.0->streamlit) (1.34.1)\n",
            "Requirement already satisfied: gitdb<5,>=4.0.1 in /usr/local/lib/python3.11/dist-packages (from gitpython!=3.1.19,<4,>=3.0.7->streamlit) (4.0.12)\n",
            "Requirement already satisfied: python-dateutil>=2.8.2 in /usr/local/lib/python3.11/dist-packages (from pandas<3,>=1.4.0->streamlit) (2.8.2)\n",
            "Requirement already satisfied: pytz>=2020.1 in /usr/local/lib/python3.11/dist-packages (from pandas<3,>=1.4.0->streamlit) (2025.2)\n",
            "Requirement already satisfied: tzdata>=2022.7 in /usr/local/lib/python3.11/dist-packages (from pandas<3,>=1.4.0->streamlit) (2025.2)\n",
            "Requirement already satisfied: charset-normalizer<4,>=2 in /usr/local/lib/python3.11/dist-packages (from requests<3,>=2.27->streamlit) (3.4.1)\n",
            "Requirement already satisfied: idna<4,>=2.5 in /usr/local/lib/python3.11/dist-packages (from requests<3,>=2.27->streamlit) (3.10)\n",
            "Requirement already satisfied: urllib3<3,>=1.21.1 in /usr/local/lib/python3.11/dist-packages (from requests<3,>=2.27->streamlit) (2.3.0)\n",
            "Requirement already satisfied: certifi>=2017.4.17 in /usr/local/lib/python3.11/dist-packages (from requests<3,>=2.27->streamlit) (2025.1.31)\n",
            "Requirement already satisfied: smmap<6,>=3.0.1 in /usr/local/lib/python3.11/dist-packages (from gitdb<5,>=4.0.1->gitpython!=3.1.19,<4,>=3.0.7->streamlit) (5.0.2)\n",
            "Requirement already satisfied: MarkupSafe>=2.0 in /usr/local/lib/python3.11/dist-packages (from jinja2->altair<6,>=4.0->streamlit) (3.0.2)\n",
            "Requirement already satisfied: attrs>=22.2.0 in /usr/local/lib/python3.11/dist-packages (from jsonschema>=3.0->altair<6,>=4.0->streamlit) (25.3.0)\n",
            "Requirement already satisfied: jsonschema-specifications>=2023.03.6 in /usr/local/lib/python3.11/dist-packages (from jsonschema>=3.0->altair<6,>=4.0->streamlit) (2024.10.1)\n",
            "Requirement already satisfied: referencing>=0.28.4 in /usr/local/lib/python3.11/dist-packages (from jsonschema>=3.0->altair<6,>=4.0->streamlit) (0.36.2)\n",
            "Requirement already satisfied: rpds-py>=0.7.1 in /usr/local/lib/python3.11/dist-packages (from jsonschema>=3.0->altair<6,>=4.0->streamlit) (0.24.0)\n",
            "Requirement already satisfied: six>=1.5 in /usr/local/lib/python3.11/dist-packages (from python-dateutil>=2.8.2->pandas<3,>=1.4.0->streamlit) (1.17.0)\n",
            "Downloading streamlit-1.44.1-py3-none-any.whl (9.8 MB)\n",
            "\u001b[2K   \u001b[90m━━━━━━━━━━━━━━━━━━━━━━━━━━━━━━━━━━━━━━━━\u001b[0m \u001b[32m9.8/9.8 MB\u001b[0m \u001b[31m21.3 MB/s\u001b[0m eta \u001b[36m0:00:00\u001b[0m\n",
            "\u001b[?25hDownloading pydeck-0.9.1-py2.py3-none-any.whl (6.9 MB)\n",
            "\u001b[2K   \u001b[90m━━━━━━━━━━━━━━━━━━━━━━━━━━━━━━━━━━━━━━━━\u001b[0m \u001b[32m6.9/6.9 MB\u001b[0m \u001b[31m31.0 MB/s\u001b[0m eta \u001b[36m0:00:00\u001b[0m\n",
            "\u001b[?25hDownloading watchdog-6.0.0-py3-none-manylinux2014_x86_64.whl (79 kB)\n",
            "\u001b[2K   \u001b[90m━━━━━━━━━━━━━━━━━━━━━━━━━━━━━━━━━━━━━━━━\u001b[0m \u001b[32m79.1/79.1 kB\u001b[0m \u001b[31m6.1 MB/s\u001b[0m eta \u001b[36m0:00:00\u001b[0m\n",
            "\u001b[?25hInstalling collected packages: watchdog, pydeck, streamlit\n",
            "Successfully installed pydeck-0.9.1 streamlit-1.44.1 watchdog-6.0.0\n"
          ]
        }
      ],
      "source": [
        "import numpy as np\n",
        "import matplotlib.pyplot as plt\n",
        "!pip install streamlit"
      ]
    },
    {
      "cell_type": "code",
      "source": [],
      "metadata": {
        "id": "ojCyVFecsOSr"
      },
      "execution_count": null,
      "outputs": []
    },
    {
      "cell_type": "code",
      "source": [
        "print(\"This is the Total Cost of Ownership for a 2005 Columbia Freightliner\\n\")\n",
        "print(\"Industrial Service Solutions \")"
      ],
      "metadata": {
        "colab": {
          "base_uri": "https://localhost:8080/"
        },
        "id": "5QcYLgDhngwS",
        "outputId": "73512c8d-1093-49f9-dbc3-d36f1ff85d4a"
      },
      "execution_count": 2,
      "outputs": [
        {
          "output_type": "stream",
          "name": "stdout",
          "text": [
            "This is the Total Cost of Ownership for a 2005 Columbia Freightliner\n",
            "\n",
            "Industrial Service Solutions \n"
          ]
        }
      ]
    },
    {
      "cell_type": "code",
      "source": [
        "#Operational Costs\n",
        "while True:\n",
        "  try:\n",
        "    driver_wages = float(input(\"Please enter your driver wages per hour: \"))\n",
        "    if driver_wages > 0:\n",
        "      break\n",
        "    else:\n",
        "      print(\"Invalid input. Please enter a wage that is greater than 0.\")\n",
        "  except ValueError:\n",
        "    print(\"Invalid input. Please enter a valid number. \")\n",
        "\n",
        "#Purchase Costs\n",
        "while True:\n",
        "  try:\n",
        "    initial_purchase_cost = float(input(\"Please enter the intiial purchase cost of the vehicle: \"))\n",
        "    if initial_purchase_cost > 0:\n",
        "      break\n",
        "    else:\n",
        "      print(\"Invalid input. Please enter an initial purchase cost that is greater than 0.\")\n",
        "  except ValueError:\n",
        "    print(\"Invalid input. Please enter a valid number. \")\n",
        "while True:\n",
        "  try:\n",
        "    useful_life = float(input(\"Please enter the number of years the vehicle has been in use: \"))\n",
        "    if useful_life > 0:\n",
        "      break\n",
        "    else:\n",
        "      print(\"Invalid input. Please enter the correct number of years greater than 0.\")\n",
        "  except ValueError:\n",
        "    print(\"Invalid input. Please enter a valid number. \")\n",
        "#Fuel Costs:\n",
        "while True:\n",
        "  try:\n",
        "    average_monthly_driven_miles = float(input(\"Please enter the number of miles that this vehicle drives per month: \"))\n",
        "    if average_monthly_driven_miles > 0:\n",
        "      break\n",
        "    else:\n",
        "      print(\"Invalid input. Please enter the correct number of miles greater than 0.\")\n",
        "  except ValueError:\n",
        "    print(\"Invalid input. Please enter a valid number. \")\n",
        "while True:\n",
        "  try:\n",
        "    fuel_efficiency = float(input(\"Please enter the fuel efficiency of this vehicle in miles per gallon: \"))\n",
        "    if fuel_efficiency > 0:\n",
        "      break\n",
        "    else:\n",
        "      print(\"Invalid input. Please enter the correct fuel efficiency greater than 0.\")\n",
        "  except ValueError:\n",
        "    print(\"Invalid input. Please enter a valid number. \")\n",
        "while True:\n",
        "  try:\n",
        "    fuel_price = float(input(\"Please enter the fuel price per gallon at this current moment: \"))\n",
        "    if fuel_price > 0:\n",
        "      break\n",
        "    else:\n",
        "      print(\"Invalid input. Please enter the correct fuel price greater than 0.\")\n",
        "  except:\n",
        "    print(\"Invalid input. Please enter a valid number. \")\n",
        "\n",
        "#Maintenance Costs\n",
        "while True:\n",
        "  try:\n",
        "    monthly_maintenance_cost = float(input(\"Please enter the monthly maintenance cost of this vehicle: \"))\n",
        "    if monthly_maintenance_cost > 0:\n",
        "      break\n",
        "    else:\n",
        "      print(\"Invalid input. Please enter the correct maintenance cost greater than 0.\")\n",
        "  except ValueError:\n",
        "    print(\"Invalid input. Please enter a valid number. \")\n",
        "\n",
        "#Licensing Permits\n",
        "while True:\n",
        "  try:\n",
        "    registration_fee = float(input(\"Please enter the monthly registration fee for this vehicle: \"))\n",
        "    if registration_fee > 0:\n",
        "      break\n",
        "    else:\n",
        "      print(\"Invalid input. Please enter the correct registration fee greater than 0.\")\n",
        "  except ValueError:\n",
        "    print(\"Invalid input. Please enter a valid number. \")\n",
        "\n",
        "while True:\n",
        "  try:\n",
        "    permit_costs = float(input(\"Please enter the monthly permit costs for this vehicle: \"))\n",
        "    if permit_costs > 0:\n",
        "      break\n",
        "    else:\n",
        "      print(\"Invalid input. Please enter the correct permit costs greater than 0.\")\n",
        "  except ValueError:\n",
        "    print(\"Invalid input. Please enter a valid number. \")\n"
      ],
      "metadata": {
        "colab": {
          "base_uri": "https://localhost:8080/"
        },
        "id": "f9dxVJKEmX9o",
        "outputId": "aa03b49b-48f7-4b6a-bd57-cee38cda9018"
      },
      "execution_count": null,
      "outputs": [
        {
          "name": "stdout",
          "output_type": "stream",
          "text": [
            "Please enter your driver wages per hour: 24\n",
            "Please enter the intiial purchase cost of the vehicle: 60000\n",
            "Please enter the number of years the vehicle has been in use: 20\n",
            "Please enter the number of miles that this vehicle drives per month: 2625\n",
            "Please enter the fuel efficiency of this vehicle in miles per gallon: 8.8\n",
            "Please enter the fuel price per gallon at this current moment: 3.52\n",
            "Please enter the monthly maintenance cost of this vehicle: 1000\n",
            "Please enter the monthly registration fee for this vehicle: 91.67\n",
            "Please enter the monthly permit costs for this vehicle: 80\n"
          ]
        }
      ]
    },
    {
      "cell_type": "code",
      "source": [
        "#Calculations\n",
        "total_driver_wages_per_month = driver_wages * 4.33 * 50\n",
        "purchase_cost_per_month = initial_purchase_cost / (useful_life * 12)\n",
        "fuel_cost_per_month = (average_monthly_driven_miles / fuel_efficiency) * fuel_price\n",
        "total_maintenance_cost_per_month = monthly_maintenance_cost\n",
        "total_licensing_permits_cost_per_month = registration_fee + permit_costs\n",
        "\n",
        "total_cost_of_owning_vehicle_per_month = total_driver_wages_per_month + purchase_cost_per_month + fuel_cost_per_month + total_maintenance_cost_per_month + total_licensing_permits_cost_per_month\n",
        "\n",
        "print(f\"The total driver wage costs per month is: ${total_driver_wages_per_month:.2f}\\n\")\n",
        "print(f\"The total purchase cost per month is: ${purchase_cost_per_month:.2f}\\n\")\n",
        "print(f\"The total fuel cost per month is: ${fuel_cost_per_month:.2f}\\n\")\n",
        "print(f\"The total maintenance cost per month is: ${total_maintenance_cost_per_month:.2f}\\n\")\n",
        "print(f\"The total licensing and permits cost per month is: ${total_licensing_permits_cost_per_month:.2f}\\n\")\n",
        "\n",
        "print(f\"The total cost of owning the vehicle per month is: ${total_cost_of_owning_vehicle_per_month:.2f}\\n\")"
      ],
      "metadata": {
        "colab": {
          "base_uri": "https://localhost:8080/"
        },
        "id": "Ga5jeUtKmYAI",
        "outputId": "8e7ebd60-584a-41d9-94d4-5ad8fea7aa33"
      },
      "execution_count": null,
      "outputs": [
        {
          "output_type": "stream",
          "name": "stdout",
          "text": [
            "The total driver wage costs per month is: $5196.00\n",
            "\n",
            "The total purchase cost per month is: $250.00\n",
            "\n",
            "The total fuel cost per month is: $1050.00\n",
            "\n",
            "The total maintenance cost per month is: $1000.00\n",
            "\n",
            "The total licensing and permits cost per month is: $171.67\n",
            "\n",
            "The total cost of owning the vehicle per month is: $7667.67\n",
            "\n"
          ]
        }
      ]
    },
    {
      "cell_type": "code",
      "source": [
        "dollar_per_mile_calculation = (total_driver_wages_per_month/average_monthly_driven_miles) + (purchase_cost_per_month/average_monthly_driven_miles) + (fuel_cost_per_month/average_monthly_driven_miles) + (total_maintenance_cost_per_month/average_monthly_driven_miles) + (total_licensing_permits_cost_per_month/average_monthly_driven_miles)\n",
        "\n",
        "print(f\"The dollar per mile calculation is: ${dollar_per_mile_calculation:.2f}\\n\")"
      ],
      "metadata": {
        "colab": {
          "base_uri": "https://localhost:8080/"
        },
        "id": "OMMUj1Gpny43",
        "outputId": "4a995c2c-ae03-49bd-b636-ca404fbb820c"
      },
      "execution_count": null,
      "outputs": [
        {
          "output_type": "stream",
          "name": "stdout",
          "text": [
            "The dollar per mile calculation is: $2.92\n",
            "\n"
          ]
        }
      ]
    },
    {
      "cell_type": "code",
      "source": [
        "#3rd party delivery costs\n",
        "\n",
        "while True:\n",
        "  try:\n",
        "    third_party_delivery_costs = float(input(\"Please enter the dollar per mile cost of a 3rd party delivery method: \"))\n",
        "    if third_party_delivery_costs > 0:\n",
        "      break\n",
        "    else:\n",
        "      print(\"Invalid input. Please enter a value greater than 0.\")\n",
        "  except ValueError:\n",
        "    print(\"Invalid input. Please enter a valid number. \")"
      ],
      "metadata": {
        "colab": {
          "base_uri": "https://localhost:8080/"
        },
        "id": "aKN0TSnLmYCo",
        "outputId": "08188826-dd77-40ff-b01b-0a8ea2769695"
      },
      "execution_count": null,
      "outputs": [
        {
          "name": "stdout",
          "output_type": "stream",
          "text": [
            "Please enter the dollar per mile cost of a 3rd party delivery method: 2.54\n"
          ]
        }
      ]
    },
    {
      "cell_type": "code",
      "source": [
        "import ipywidgets as widgets\n",
        "from IPython.display import display\n",
        "\n",
        "# Define the slider\n",
        "impact_slider = widgets.IntSlider(\n",
        "    value=1,\n",
        "    min=0,\n",
        "    max=2,\n",
        "    step=1,\n",
        "    description='Impact:',\n",
        "    style={'description_width': 'initial'}\n",
        ")\n",
        "\n",
        "# Define the label\n",
        "impact_label = widgets.Label()\n",
        "\n",
        "# Update function\n",
        "def update_label(change):\n",
        "    levels = {\n",
        "        0: \"No Impact\",\n",
        "        1: \"Medium Impact\",\n",
        "        2: \"High Impact\"\n",
        "    }\n",
        "    impact_label.value = f\"Qualitative Impact: {levels[impact_slider.value]} ({impact_slider.value})\"\n",
        "\n",
        "# Connect the slider to the update function\n",
        "impact_slider.observe(update_label, names='value')\n",
        "\n",
        "# Initial label update\n",
        "update_label(None)\n",
        "\n",
        "# Display the slider and label\n",
        "display(impact_slider, impact_label)"
      ],
      "metadata": {
        "colab": {
          "base_uri": "https://localhost:8080/",
          "height": 79,
          "referenced_widgets": [
            "5f239cace9784a5cad940b49ff6cec27",
            "516afe84d08445de84a6760eb878d22f",
            "b9c59afdb4e649eb9b86916517dd50dd",
            "2d96cce31bc540bf9e3d17f1247a9f71",
            "a170852ac980484e8d6c7c4c6b4f89b8",
            "5c0306abb1f74586b9c62ef11396d1fa"
          ]
        },
        "id": "miu9TJ2WmYFX",
        "outputId": "92adc5e1-ea30-402d-e07b-966b1a22904e"
      },
      "execution_count": null,
      "outputs": [
        {
          "output_type": "display_data",
          "data": {
            "text/plain": [
              "IntSlider(value=1, description='Impact:', max=2, style=SliderStyle(description_width='initial'))"
            ],
            "application/vnd.jupyter.widget-view+json": {
              "version_major": 2,
              "version_minor": 0,
              "model_id": "5f239cace9784a5cad940b49ff6cec27"
            }
          },
          "metadata": {}
        },
        {
          "output_type": "display_data",
          "data": {
            "text/plain": [
              "Label(value='Qualitative Impact: Medium Impact (1)')"
            ],
            "application/vnd.jupyter.widget-view+json": {
              "version_major": 2,
              "version_minor": 0,
              "model_id": "2d96cce31bc540bf9e3d17f1247a9f71"
            }
          },
          "metadata": {}
        }
      ]
    },
    {
      "cell_type": "code",
      "source": [
        "import ipywidgets as widgets\n",
        "from IPython.display import display\n",
        "\n",
        "print (\"Please select whether to consider the qualitative results in the analysis\\n\")\n",
        "print(\"0 means that qualitative data will not be considered when making the decision\\n\")\n",
        "print(\"1 means that qualitative data and quantitative data are equally considered when recommending the decision\\n\")\n",
        "print(\"2 means that only qualitative data is considered when making the decision\\n\")\n",
        "\n",
        "# Define the slider\n",
        "impact_slider = widgets.IntSlider(\n",
        "    value=1,\n",
        "    min=0,\n",
        "    max=2,\n",
        "    step=1,\n",
        "    description='Impact:',\n",
        "    style={'description_width': 'initial'}\n",
        ")\n",
        "\n",
        "# Define the label to show the result\n",
        "impact_label = widgets.Label()\n",
        "\n",
        "# Button to confirm or update the selection\n",
        "update_button = widgets.Button(description=\"Update Selection\")\n",
        "\n",
        "# Store the last value (initially none)\n",
        "last_value = None\n",
        "\n",
        "# Function that calculates costs based on slider value\n",
        "def calculate_costs(value):\n",
        "    if value == 0:\n",
        "        return \"No impact on costs.\"\n",
        "    elif value == 1:\n",
        "        return \"Medium impact on costs.\"\n",
        "    elif value == 2:\n",
        "        return \"High impact on costs.\"\n",
        "\n",
        "# Function to handle button click and show result\n",
        "def on_button_click(b):\n",
        "    global last_value\n",
        "    if last_value != impact_slider.value:\n",
        "        last_value = impact_slider.value  # Update the last confirmed value\n",
        "        result = calculate_costs(last_value)\n",
        "        impact_label.value = f\"Qualitative Impact: {result}\"\n",
        "    else:\n",
        "        impact_label.value = f\"Qualitative Impact: No change made.\"\n",
        "\n",
        "# Attach the button click function to the button\n",
        "update_button.on_click(on_button_click)\n",
        "\n",
        "# Display the slider, update button, and result label\n",
        "display(impact_slider, update_button, impact_label)\n"
      ],
      "metadata": {
        "colab": {
          "base_uri": "https://localhost:8080/",
          "height": 252,
          "referenced_widgets": [
            "bf957ddcd8924a4085fd23ffa4b85e63",
            "ce7fee20254140f4b3cfc660d7f8c106",
            "1b57351d91924ba0bf92974fd7bdecda",
            "f05938a9ef654aa8ba977d55ee70f2dd",
            "127856cd88484cf799c402814b302a75",
            "f3930e09cecd460681e8f80ab4af86eb",
            "0fa62239223c4eedb715e72deb700fe8",
            "2d562bcad64e402b84969eba42820b2b",
            "3f0e95f08344409f87fc83f9e01cb20f"
          ]
        },
        "id": "lxASIX9WmYH8",
        "outputId": "abf1b41b-5c6b-444c-8d4d-8fa6053c7a91"
      },
      "execution_count": null,
      "outputs": [
        {
          "output_type": "stream",
          "name": "stdout",
          "text": [
            "Please select whether to consider the qualitative results in the analysis\n",
            "\n",
            "0 means that qualitative data will not be considered when making the decision\n",
            "\n",
            "1 means that qualitative data and quantitative data are equally considered when recommending the decision\n",
            "\n",
            "2 means that only qualitative data is considered when making the decision\n",
            "\n"
          ]
        },
        {
          "output_type": "display_data",
          "data": {
            "text/plain": [
              "IntSlider(value=1, description='Impact:', max=2, style=SliderStyle(description_width='initial'))"
            ],
            "application/vnd.jupyter.widget-view+json": {
              "version_major": 2,
              "version_minor": 0,
              "model_id": "bf957ddcd8924a4085fd23ffa4b85e63"
            }
          },
          "metadata": {}
        },
        {
          "output_type": "display_data",
          "data": {
            "text/plain": [
              "Button(description='Update Selection', style=ButtonStyle())"
            ],
            "application/vnd.jupyter.widget-view+json": {
              "version_major": 2,
              "version_minor": 0,
              "model_id": "f05938a9ef654aa8ba977d55ee70f2dd"
            }
          },
          "metadata": {}
        },
        {
          "output_type": "display_data",
          "data": {
            "text/plain": [
              "Label(value='')"
            ],
            "application/vnd.jupyter.widget-view+json": {
              "version_major": 2,
              "version_minor": 0,
              "model_id": "0fa62239223c4eedb715e72deb700fe8"
            }
          },
          "metadata": {}
        }
      ]
    },
    {
      "cell_type": "code",
      "source": [],
      "metadata": {
        "id": "-jKIHRg1mYKS"
      },
      "execution_count": null,
      "outputs": []
    },
    {
      "cell_type": "code",
      "source": [],
      "metadata": {
        "id": "jrbGHYCtmYMt"
      },
      "execution_count": null,
      "outputs": []
    },
    {
      "cell_type": "code",
      "source": [],
      "metadata": {
        "id": "RPnafqwZmYPI"
      },
      "execution_count": null,
      "outputs": []
    },
    {
      "cell_type": "code",
      "source": [],
      "metadata": {
        "id": "gQCsAMB3mYRj"
      },
      "execution_count": null,
      "outputs": []
    }
  ]
}